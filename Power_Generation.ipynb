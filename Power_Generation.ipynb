{
  "nbformat": 4,
  "nbformat_minor": 0,
  "metadata": {
    "colab": {
      "name": "Power Generation",
      "provenance": [],
      "collapsed_sections": [],
      "authorship_tag": "ABX9TyNpMJUhlYdJcxcjUGAtFx+i",
      "include_colab_link": true
    },
    "kernelspec": {
      "name": "python3",
      "display_name": "Python 3"
    },
    "language_info": {
      "name": "python"
    }
  },
  "cells": [
    {
      "cell_type": "markdown",
      "metadata": {
        "id": "view-in-github",
        "colab_type": "text"
      },
      "source": [
        "<a href=\"https://colab.research.google.com/github/PyBeginner1/IndiPowerGenerationRegionPrediction/blob/main/Power_Generation.ipynb\" target=\"_parent\"><img src=\"https://colab.research.google.com/assets/colab-badge.svg\" alt=\"Open In Colab\"/></a>"
      ]
    },
    {
      "cell_type": "code",
      "metadata": {
        "id": "4CfXogFEFacF"
      },
      "source": [
        "import numpy as np\n",
        "import pandas as pd\n",
        "\n",
        "from sklearn.model_selection import train_test_split\n",
        "from sklearn.preprocessing import LabelEncoder, StandardScaler\n",
        "\n",
        "from sklearn.linear_model import LogisticRegression\n",
        "from sklearn.svm import SVC\n",
        "from sklearn.neural_network import MLPClassifier\n",
        "from sklearn.tree import DecisionTreeClassifier\n",
        "from sklearn.ensemble import RandomForestClassifier, GradientBoostingClassifier, AdaBoostClassifier, BaggingClassifier\n",
        "\n",
        "from sklearn.metrics import confusion_matrix\n",
        "from sklearn.metrics import accuracy_score\n"
      ],
      "execution_count": 166,
      "outputs": []
    },
    {
      "cell_type": "code",
      "metadata": {
        "id": "oF6g8uweHct3"
      },
      "source": [
        "data = pd.read_csv('/content/power.csv')"
      ],
      "execution_count": 137,
      "outputs": []
    },
    {
      "cell_type": "code",
      "metadata": {
        "colab": {
          "base_uri": "https://localhost:8080/",
          "height": 612
        },
        "id": "rYF56C_CHowd",
        "outputId": "e7561443-db6c-4c60-abe7-df4d4374751a"
      },
      "source": [
        "data"
      ],
      "execution_count": 138,
      "outputs": [
        {
          "output_type": "execute_result",
          "data": {
            "text/html": [
              "<div>\n",
              "<style scoped>\n",
              "    .dataframe tbody tr th:only-of-type {\n",
              "        vertical-align: middle;\n",
              "    }\n",
              "\n",
              "    .dataframe tbody tr th {\n",
              "        vertical-align: top;\n",
              "    }\n",
              "\n",
              "    .dataframe thead th {\n",
              "        text-align: right;\n",
              "    }\n",
              "</style>\n",
              "<table border=\"1\" class=\"dataframe\">\n",
              "  <thead>\n",
              "    <tr style=\"text-align: right;\">\n",
              "      <th></th>\n",
              "      <th>index</th>\n",
              "      <th>Date</th>\n",
              "      <th>Region</th>\n",
              "      <th>Thermal Generation Actual (in MU)</th>\n",
              "      <th>Thermal Generation Estimated (in MU)</th>\n",
              "      <th>Nuclear Generation Actual (in MU)</th>\n",
              "      <th>Nuclear Generation Estimated (in MU)</th>\n",
              "      <th>Hydro Generation Actual (in MU)</th>\n",
              "      <th>Hydro Generation Estimated (in MU)</th>\n",
              "    </tr>\n",
              "  </thead>\n",
              "  <tbody>\n",
              "    <tr>\n",
              "      <th>0</th>\n",
              "      <td>0</td>\n",
              "      <td>2017-09-01</td>\n",
              "      <td>Northern</td>\n",
              "      <td>624.23</td>\n",
              "      <td>484.21</td>\n",
              "      <td>30.36</td>\n",
              "      <td>35.57</td>\n",
              "      <td>273.27</td>\n",
              "      <td>320.81</td>\n",
              "    </tr>\n",
              "    <tr>\n",
              "      <th>1</th>\n",
              "      <td>1</td>\n",
              "      <td>2017-09-01</td>\n",
              "      <td>Western</td>\n",
              "      <td>1,106.89</td>\n",
              "      <td>1,024.33</td>\n",
              "      <td>25.17</td>\n",
              "      <td>3.81</td>\n",
              "      <td>72.00</td>\n",
              "      <td>21.53</td>\n",
              "    </tr>\n",
              "    <tr>\n",
              "      <th>2</th>\n",
              "      <td>2</td>\n",
              "      <td>2017-09-01</td>\n",
              "      <td>Southern</td>\n",
              "      <td>576.66</td>\n",
              "      <td>578.55</td>\n",
              "      <td>62.73</td>\n",
              "      <td>49.80</td>\n",
              "      <td>111.57</td>\n",
              "      <td>64.78</td>\n",
              "    </tr>\n",
              "    <tr>\n",
              "      <th>3</th>\n",
              "      <td>3</td>\n",
              "      <td>2017-09-01</td>\n",
              "      <td>Eastern</td>\n",
              "      <td>441.02</td>\n",
              "      <td>429.39</td>\n",
              "      <td>NaN</td>\n",
              "      <td>NaN</td>\n",
              "      <td>85.94</td>\n",
              "      <td>69.36</td>\n",
              "    </tr>\n",
              "    <tr>\n",
              "      <th>4</th>\n",
              "      <td>4</td>\n",
              "      <td>2017-09-01</td>\n",
              "      <td>NorthEastern</td>\n",
              "      <td>29.11</td>\n",
              "      <td>15.91</td>\n",
              "      <td>NaN</td>\n",
              "      <td>NaN</td>\n",
              "      <td>24.64</td>\n",
              "      <td>21.21</td>\n",
              "    </tr>\n",
              "    <tr>\n",
              "      <th>...</th>\n",
              "      <td>...</td>\n",
              "      <td>...</td>\n",
              "      <td>...</td>\n",
              "      <td>...</td>\n",
              "      <td>...</td>\n",
              "      <td>...</td>\n",
              "      <td>...</td>\n",
              "      <td>...</td>\n",
              "      <td>...</td>\n",
              "    </tr>\n",
              "    <tr>\n",
              "      <th>4940</th>\n",
              "      <td>305</td>\n",
              "      <td>2020-08-01</td>\n",
              "      <td>Northern</td>\n",
              "      <td>669.47</td>\n",
              "      <td>602.96</td>\n",
              "      <td>26.88</td>\n",
              "      <td>23.41</td>\n",
              "      <td>348.72</td>\n",
              "      <td>351.98</td>\n",
              "    </tr>\n",
              "    <tr>\n",
              "      <th>4941</th>\n",
              "      <td>306</td>\n",
              "      <td>2020-08-01</td>\n",
              "      <td>Western</td>\n",
              "      <td>1,116.00</td>\n",
              "      <td>1,262.10</td>\n",
              "      <td>42.37</td>\n",
              "      <td>36.63</td>\n",
              "      <td>54.67</td>\n",
              "      <td>20.28</td>\n",
              "    </tr>\n",
              "    <tr>\n",
              "      <th>4942</th>\n",
              "      <td>307</td>\n",
              "      <td>2020-08-01</td>\n",
              "      <td>Southern</td>\n",
              "      <td>494.66</td>\n",
              "      <td>415.53</td>\n",
              "      <td>61.83</td>\n",
              "      <td>26.28</td>\n",
              "      <td>93.49</td>\n",
              "      <td>77.25</td>\n",
              "    </tr>\n",
              "    <tr>\n",
              "      <th>4943</th>\n",
              "      <td>308</td>\n",
              "      <td>2020-08-01</td>\n",
              "      <td>Eastern</td>\n",
              "      <td>482.86</td>\n",
              "      <td>547.03</td>\n",
              "      <td>NaN</td>\n",
              "      <td>NaN</td>\n",
              "      <td>87.22</td>\n",
              "      <td>93.78</td>\n",
              "    </tr>\n",
              "    <tr>\n",
              "      <th>4944</th>\n",
              "      <td>309</td>\n",
              "      <td>2020-08-01</td>\n",
              "      <td>NorthEastern</td>\n",
              "      <td>34.42</td>\n",
              "      <td>32.81</td>\n",
              "      <td>NaN</td>\n",
              "      <td>NaN</td>\n",
              "      <td>29.87</td>\n",
              "      <td>29.96</td>\n",
              "    </tr>\n",
              "  </tbody>\n",
              "</table>\n",
              "<p>4945 rows × 9 columns</p>\n",
              "</div>"
            ],
            "text/plain": [
              "      index  ... Hydro Generation Estimated (in MU)\n",
              "0         0  ...                             320.81\n",
              "1         1  ...                              21.53\n",
              "2         2  ...                              64.78\n",
              "3         3  ...                              69.36\n",
              "4         4  ...                              21.21\n",
              "...     ...  ...                                ...\n",
              "4940    305  ...                             351.98\n",
              "4941    306  ...                              20.28\n",
              "4942    307  ...                              77.25\n",
              "4943    308  ...                              93.78\n",
              "4944    309  ...                              29.96\n",
              "\n",
              "[4945 rows x 9 columns]"
            ]
          },
          "metadata": {
            "tags": []
          },
          "execution_count": 138
        }
      ]
    },
    {
      "cell_type": "code",
      "metadata": {
        "colab": {
          "base_uri": "https://localhost:8080/"
        },
        "id": "uP0IJIgQHpT1",
        "outputId": "965c8bc0-baf1-4e96-da1b-b9c920eedf8d"
      },
      "source": [
        "data.info()"
      ],
      "execution_count": 139,
      "outputs": [
        {
          "output_type": "stream",
          "text": [
            "<class 'pandas.core.frame.DataFrame'>\n",
            "RangeIndex: 4945 entries, 0 to 4944\n",
            "Data columns (total 9 columns):\n",
            " #   Column                                Non-Null Count  Dtype  \n",
            "---  ------                                --------------  -----  \n",
            " 0   index                                 4945 non-null   int64  \n",
            " 1   Date                                  4945 non-null   object \n",
            " 2   Region                                4945 non-null   object \n",
            " 3   Thermal Generation Actual (in MU)     4945 non-null   object \n",
            " 4   Thermal Generation Estimated (in MU)  4945 non-null   object \n",
            " 5   Nuclear Generation Actual (in MU)     2967 non-null   float64\n",
            " 6   Nuclear Generation Estimated (in MU)  2967 non-null   float64\n",
            " 7   Hydro Generation Actual (in MU)       4945 non-null   float64\n",
            " 8   Hydro Generation Estimated (in MU)    4945 non-null   float64\n",
            "dtypes: float64(4), int64(1), object(4)\n",
            "memory usage: 347.8+ KB\n"
          ],
          "name": "stdout"
        }
      ]
    },
    {
      "cell_type": "code",
      "metadata": {
        "id": "GbAgyGLLIP79"
      },
      "source": [
        "data =data.drop('index', axis = 1)"
      ],
      "execution_count": 140,
      "outputs": []
    },
    {
      "cell_type": "code",
      "metadata": {
        "colab": {
          "base_uri": "https://localhost:8080/"
        },
        "id": "g-wzm1IMKB5W",
        "outputId": "e134e53f-8074-4a00-c0c8-9f2899ce2985"
      },
      "source": [
        "data.isnull().sum()"
      ],
      "execution_count": 141,
      "outputs": [
        {
          "output_type": "execute_result",
          "data": {
            "text/plain": [
              "Date                                       0\n",
              "Region                                     0\n",
              "Thermal Generation Actual (in MU)          0\n",
              "Thermal Generation Estimated (in MU)       0\n",
              "Nuclear Generation Actual (in MU)       1978\n",
              "Nuclear Generation Estimated (in MU)    1978\n",
              "Hydro Generation Actual (in MU)            0\n",
              "Hydro Generation Estimated (in MU)         0\n",
              "dtype: int64"
            ]
          },
          "metadata": {
            "tags": []
          },
          "execution_count": 141
        }
      ]
    },
    {
      "cell_type": "code",
      "metadata": {
        "colab": {
          "base_uri": "https://localhost:8080/",
          "height": 299
        },
        "id": "caJY8mEtKEgF",
        "outputId": "2e1fc28b-193e-457f-ea49-6fbd052e8e86"
      },
      "source": [
        "data.describe()"
      ],
      "execution_count": 142,
      "outputs": [
        {
          "output_type": "execute_result",
          "data": {
            "text/html": [
              "<div>\n",
              "<style scoped>\n",
              "    .dataframe tbody tr th:only-of-type {\n",
              "        vertical-align: middle;\n",
              "    }\n",
              "\n",
              "    .dataframe tbody tr th {\n",
              "        vertical-align: top;\n",
              "    }\n",
              "\n",
              "    .dataframe thead th {\n",
              "        text-align: right;\n",
              "    }\n",
              "</style>\n",
              "<table border=\"1\" class=\"dataframe\">\n",
              "  <thead>\n",
              "    <tr style=\"text-align: right;\">\n",
              "      <th></th>\n",
              "      <th>Nuclear Generation Actual (in MU)</th>\n",
              "      <th>Nuclear Generation Estimated (in MU)</th>\n",
              "      <th>Hydro Generation Actual (in MU)</th>\n",
              "      <th>Hydro Generation Estimated (in MU)</th>\n",
              "    </tr>\n",
              "  </thead>\n",
              "  <tbody>\n",
              "    <tr>\n",
              "      <th>count</th>\n",
              "      <td>2967.000000</td>\n",
              "      <td>2967.000000</td>\n",
              "      <td>4945.000000</td>\n",
              "      <td>4945.000000</td>\n",
              "    </tr>\n",
              "    <tr>\n",
              "      <th>mean</th>\n",
              "      <td>37.242208</td>\n",
              "      <td>36.987877</td>\n",
              "      <td>73.305921</td>\n",
              "      <td>76.842965</td>\n",
              "    </tr>\n",
              "    <tr>\n",
              "      <th>std</th>\n",
              "      <td>15.883968</td>\n",
              "      <td>11.491292</td>\n",
              "      <td>74.482145</td>\n",
              "      <td>82.043952</td>\n",
              "    </tr>\n",
              "    <tr>\n",
              "      <th>min</th>\n",
              "      <td>0.000000</td>\n",
              "      <td>0.000000</td>\n",
              "      <td>0.000000</td>\n",
              "      <td>0.000000</td>\n",
              "    </tr>\n",
              "    <tr>\n",
              "      <th>25%</th>\n",
              "      <td>26.140000</td>\n",
              "      <td>30.190000</td>\n",
              "      <td>26.910000</td>\n",
              "      <td>23.310000</td>\n",
              "    </tr>\n",
              "    <tr>\n",
              "      <th>50%</th>\n",
              "      <td>30.720000</td>\n",
              "      <td>34.840000</td>\n",
              "      <td>52.960000</td>\n",
              "      <td>50.270000</td>\n",
              "    </tr>\n",
              "    <tr>\n",
              "      <th>75%</th>\n",
              "      <td>46.830000</td>\n",
              "      <td>43.075000</td>\n",
              "      <td>85.940000</td>\n",
              "      <td>95.800000</td>\n",
              "    </tr>\n",
              "    <tr>\n",
              "      <th>max</th>\n",
              "      <td>68.740000</td>\n",
              "      <td>76.640000</td>\n",
              "      <td>348.720000</td>\n",
              "      <td>397.380000</td>\n",
              "    </tr>\n",
              "  </tbody>\n",
              "</table>\n",
              "</div>"
            ],
            "text/plain": [
              "       Nuclear Generation Actual (in MU)  ...  Hydro Generation Estimated (in MU)\n",
              "count                        2967.000000  ...                         4945.000000\n",
              "mean                           37.242208  ...                           76.842965\n",
              "std                            15.883968  ...                           82.043952\n",
              "min                             0.000000  ...                            0.000000\n",
              "25%                            26.140000  ...                           23.310000\n",
              "50%                            30.720000  ...                           50.270000\n",
              "75%                            46.830000  ...                           95.800000\n",
              "max                            68.740000  ...                          397.380000\n",
              "\n",
              "[8 rows x 4 columns]"
            ]
          },
          "metadata": {
            "tags": []
          },
          "execution_count": 142
        }
      ]
    },
    {
      "cell_type": "code",
      "metadata": {
        "colab": {
          "base_uri": "https://localhost:8080/"
        },
        "id": "6XmqHDRTKLtk",
        "outputId": "a02e6be6-6578-4df4-e7fb-69c96babd8b2"
      },
      "source": [
        "data.isnull().mean()"
      ],
      "execution_count": 143,
      "outputs": [
        {
          "output_type": "execute_result",
          "data": {
            "text/plain": [
              "Date                                    0.0\n",
              "Region                                  0.0\n",
              "Thermal Generation Actual (in MU)       0.0\n",
              "Thermal Generation Estimated (in MU)    0.0\n",
              "Nuclear Generation Actual (in MU)       0.4\n",
              "Nuclear Generation Estimated (in MU)    0.4\n",
              "Hydro Generation Actual (in MU)         0.0\n",
              "Hydro Generation Estimated (in MU)      0.0\n",
              "dtype: float64"
            ]
          },
          "metadata": {
            "tags": []
          },
          "execution_count": 143
        }
      ]
    },
    {
      "cell_type": "code",
      "metadata": {
        "colab": {
          "base_uri": "https://localhost:8080/",
          "height": 205
        },
        "id": "gfntWSMELoBM",
        "outputId": "88e88ceb-7381-4702-a0f1-276985b689ea"
      },
      "source": [
        "data.groupby('Region', as_index = False)['Nuclear Generation Actual (in MU)'].mean()"
      ],
      "execution_count": 144,
      "outputs": [
        {
          "output_type": "execute_result",
          "data": {
            "text/html": [
              "<div>\n",
              "<style scoped>\n",
              "    .dataframe tbody tr th:only-of-type {\n",
              "        vertical-align: middle;\n",
              "    }\n",
              "\n",
              "    .dataframe tbody tr th {\n",
              "        vertical-align: top;\n",
              "    }\n",
              "\n",
              "    .dataframe thead th {\n",
              "        text-align: right;\n",
              "    }\n",
              "</style>\n",
              "<table border=\"1\" class=\"dataframe\">\n",
              "  <thead>\n",
              "    <tr style=\"text-align: right;\">\n",
              "      <th></th>\n",
              "      <th>Region</th>\n",
              "      <th>Nuclear Generation Actual (in MU)</th>\n",
              "    </tr>\n",
              "  </thead>\n",
              "  <tbody>\n",
              "    <tr>\n",
              "      <th>0</th>\n",
              "      <td>Eastern</td>\n",
              "      <td>NaN</td>\n",
              "    </tr>\n",
              "    <tr>\n",
              "      <th>1</th>\n",
              "      <td>NorthEastern</td>\n",
              "      <td>NaN</td>\n",
              "    </tr>\n",
              "    <tr>\n",
              "      <th>2</th>\n",
              "      <td>Northern</td>\n",
              "      <td>27.263984</td>\n",
              "    </tr>\n",
              "    <tr>\n",
              "      <th>3</th>\n",
              "      <td>Southern</td>\n",
              "      <td>56.476451</td>\n",
              "    </tr>\n",
              "    <tr>\n",
              "      <th>4</th>\n",
              "      <td>Western</td>\n",
              "      <td>27.986188</td>\n",
              "    </tr>\n",
              "  </tbody>\n",
              "</table>\n",
              "</div>"
            ],
            "text/plain": [
              "         Region  Nuclear Generation Actual (in MU)\n",
              "0       Eastern                                NaN\n",
              "1  NorthEastern                                NaN\n",
              "2      Northern                          27.263984\n",
              "3      Southern                          56.476451\n",
              "4       Western                          27.986188"
            ]
          },
          "metadata": {
            "tags": []
          },
          "execution_count": 144
        }
      ]
    },
    {
      "cell_type": "code",
      "metadata": {
        "colab": {
          "base_uri": "https://localhost:8080/",
          "height": 205
        },
        "id": "IQtpJJZWMwW8",
        "outputId": "9f6c8c30-fbd3-45c9-819c-2068be46a936"
      },
      "source": [
        "data.groupby('Region', as_index = False)['Nuclear Generation Estimated (in MU)'].mean()"
      ],
      "execution_count": 145,
      "outputs": [
        {
          "output_type": "execute_result",
          "data": {
            "text/html": [
              "<div>\n",
              "<style scoped>\n",
              "    .dataframe tbody tr th:only-of-type {\n",
              "        vertical-align: middle;\n",
              "    }\n",
              "\n",
              "    .dataframe tbody tr th {\n",
              "        vertical-align: top;\n",
              "    }\n",
              "\n",
              "    .dataframe thead th {\n",
              "        text-align: right;\n",
              "    }\n",
              "</style>\n",
              "<table border=\"1\" class=\"dataframe\">\n",
              "  <thead>\n",
              "    <tr style=\"text-align: right;\">\n",
              "      <th></th>\n",
              "      <th>Region</th>\n",
              "      <th>Nuclear Generation Estimated (in MU)</th>\n",
              "    </tr>\n",
              "  </thead>\n",
              "  <tbody>\n",
              "    <tr>\n",
              "      <th>0</th>\n",
              "      <td>Eastern</td>\n",
              "      <td>NaN</td>\n",
              "    </tr>\n",
              "    <tr>\n",
              "      <th>1</th>\n",
              "      <td>NorthEastern</td>\n",
              "      <td>NaN</td>\n",
              "    </tr>\n",
              "    <tr>\n",
              "      <th>2</th>\n",
              "      <td>Northern</td>\n",
              "      <td>31.727947</td>\n",
              "    </tr>\n",
              "    <tr>\n",
              "      <th>3</th>\n",
              "      <td>Southern</td>\n",
              "      <td>47.000243</td>\n",
              "    </tr>\n",
              "    <tr>\n",
              "      <th>4</th>\n",
              "      <td>Western</td>\n",
              "      <td>32.235440</td>\n",
              "    </tr>\n",
              "  </tbody>\n",
              "</table>\n",
              "</div>"
            ],
            "text/plain": [
              "         Region  Nuclear Generation Estimated (in MU)\n",
              "0       Eastern                                   NaN\n",
              "1  NorthEastern                                   NaN\n",
              "2      Northern                             31.727947\n",
              "3      Southern                             47.000243\n",
              "4       Western                             32.235440"
            ]
          },
          "metadata": {
            "tags": []
          },
          "execution_count": 145
        }
      ]
    },
    {
      "cell_type": "code",
      "metadata": {
        "colab": {
          "base_uri": "https://localhost:8080/"
        },
        "id": "30Og-pBTNSNL",
        "outputId": "012f7cf4-02e5-4926-9e07-22d390c282f7"
      },
      "source": [
        "data['Region'].isnull().value_counts()"
      ],
      "execution_count": 146,
      "outputs": [
        {
          "output_type": "execute_result",
          "data": {
            "text/plain": [
              "False    4945\n",
              "Name: Region, dtype: int64"
            ]
          },
          "metadata": {
            "tags": []
          },
          "execution_count": 146
        }
      ]
    },
    {
      "cell_type": "code",
      "metadata": {
        "id": "EnqaM5IyPiRi"
      },
      "source": [
        "for column in['Nuclear Generation Actual (in MU)','Nuclear Generation Estimated (in MU)']:\n",
        "  data[column] = data[column].fillna(data[column].mean())"
      ],
      "execution_count": 147,
      "outputs": []
    },
    {
      "cell_type": "code",
      "metadata": {
        "colab": {
          "base_uri": "https://localhost:8080/",
          "height": 612
        },
        "id": "CuhGikkaUFFC",
        "outputId": "64f6fffa-d6ba-4417-ef01-4b4cc76748c9"
      },
      "source": [
        "data"
      ],
      "execution_count": 148,
      "outputs": [
        {
          "output_type": "execute_result",
          "data": {
            "text/html": [
              "<div>\n",
              "<style scoped>\n",
              "    .dataframe tbody tr th:only-of-type {\n",
              "        vertical-align: middle;\n",
              "    }\n",
              "\n",
              "    .dataframe tbody tr th {\n",
              "        vertical-align: top;\n",
              "    }\n",
              "\n",
              "    .dataframe thead th {\n",
              "        text-align: right;\n",
              "    }\n",
              "</style>\n",
              "<table border=\"1\" class=\"dataframe\">\n",
              "  <thead>\n",
              "    <tr style=\"text-align: right;\">\n",
              "      <th></th>\n",
              "      <th>Date</th>\n",
              "      <th>Region</th>\n",
              "      <th>Thermal Generation Actual (in MU)</th>\n",
              "      <th>Thermal Generation Estimated (in MU)</th>\n",
              "      <th>Nuclear Generation Actual (in MU)</th>\n",
              "      <th>Nuclear Generation Estimated (in MU)</th>\n",
              "      <th>Hydro Generation Actual (in MU)</th>\n",
              "      <th>Hydro Generation Estimated (in MU)</th>\n",
              "    </tr>\n",
              "  </thead>\n",
              "  <tbody>\n",
              "    <tr>\n",
              "      <th>0</th>\n",
              "      <td>2017-09-01</td>\n",
              "      <td>Northern</td>\n",
              "      <td>624.23</td>\n",
              "      <td>484.21</td>\n",
              "      <td>30.360000</td>\n",
              "      <td>35.570000</td>\n",
              "      <td>273.27</td>\n",
              "      <td>320.81</td>\n",
              "    </tr>\n",
              "    <tr>\n",
              "      <th>1</th>\n",
              "      <td>2017-09-01</td>\n",
              "      <td>Western</td>\n",
              "      <td>1,106.89</td>\n",
              "      <td>1,024.33</td>\n",
              "      <td>25.170000</td>\n",
              "      <td>3.810000</td>\n",
              "      <td>72.00</td>\n",
              "      <td>21.53</td>\n",
              "    </tr>\n",
              "    <tr>\n",
              "      <th>2</th>\n",
              "      <td>2017-09-01</td>\n",
              "      <td>Southern</td>\n",
              "      <td>576.66</td>\n",
              "      <td>578.55</td>\n",
              "      <td>62.730000</td>\n",
              "      <td>49.800000</td>\n",
              "      <td>111.57</td>\n",
              "      <td>64.78</td>\n",
              "    </tr>\n",
              "    <tr>\n",
              "      <th>3</th>\n",
              "      <td>2017-09-01</td>\n",
              "      <td>Eastern</td>\n",
              "      <td>441.02</td>\n",
              "      <td>429.39</td>\n",
              "      <td>37.242208</td>\n",
              "      <td>36.987877</td>\n",
              "      <td>85.94</td>\n",
              "      <td>69.36</td>\n",
              "    </tr>\n",
              "    <tr>\n",
              "      <th>4</th>\n",
              "      <td>2017-09-01</td>\n",
              "      <td>NorthEastern</td>\n",
              "      <td>29.11</td>\n",
              "      <td>15.91</td>\n",
              "      <td>37.242208</td>\n",
              "      <td>36.987877</td>\n",
              "      <td>24.64</td>\n",
              "      <td>21.21</td>\n",
              "    </tr>\n",
              "    <tr>\n",
              "      <th>...</th>\n",
              "      <td>...</td>\n",
              "      <td>...</td>\n",
              "      <td>...</td>\n",
              "      <td>...</td>\n",
              "      <td>...</td>\n",
              "      <td>...</td>\n",
              "      <td>...</td>\n",
              "      <td>...</td>\n",
              "    </tr>\n",
              "    <tr>\n",
              "      <th>4940</th>\n",
              "      <td>2020-08-01</td>\n",
              "      <td>Northern</td>\n",
              "      <td>669.47</td>\n",
              "      <td>602.96</td>\n",
              "      <td>26.880000</td>\n",
              "      <td>23.410000</td>\n",
              "      <td>348.72</td>\n",
              "      <td>351.98</td>\n",
              "    </tr>\n",
              "    <tr>\n",
              "      <th>4941</th>\n",
              "      <td>2020-08-01</td>\n",
              "      <td>Western</td>\n",
              "      <td>1,116.00</td>\n",
              "      <td>1,262.10</td>\n",
              "      <td>42.370000</td>\n",
              "      <td>36.630000</td>\n",
              "      <td>54.67</td>\n",
              "      <td>20.28</td>\n",
              "    </tr>\n",
              "    <tr>\n",
              "      <th>4942</th>\n",
              "      <td>2020-08-01</td>\n",
              "      <td>Southern</td>\n",
              "      <td>494.66</td>\n",
              "      <td>415.53</td>\n",
              "      <td>61.830000</td>\n",
              "      <td>26.280000</td>\n",
              "      <td>93.49</td>\n",
              "      <td>77.25</td>\n",
              "    </tr>\n",
              "    <tr>\n",
              "      <th>4943</th>\n",
              "      <td>2020-08-01</td>\n",
              "      <td>Eastern</td>\n",
              "      <td>482.86</td>\n",
              "      <td>547.03</td>\n",
              "      <td>37.242208</td>\n",
              "      <td>36.987877</td>\n",
              "      <td>87.22</td>\n",
              "      <td>93.78</td>\n",
              "    </tr>\n",
              "    <tr>\n",
              "      <th>4944</th>\n",
              "      <td>2020-08-01</td>\n",
              "      <td>NorthEastern</td>\n",
              "      <td>34.42</td>\n",
              "      <td>32.81</td>\n",
              "      <td>37.242208</td>\n",
              "      <td>36.987877</td>\n",
              "      <td>29.87</td>\n",
              "      <td>29.96</td>\n",
              "    </tr>\n",
              "  </tbody>\n",
              "</table>\n",
              "<p>4945 rows × 8 columns</p>\n",
              "</div>"
            ],
            "text/plain": [
              "            Date  ... Hydro Generation Estimated (in MU)\n",
              "0     2017-09-01  ...                             320.81\n",
              "1     2017-09-01  ...                              21.53\n",
              "2     2017-09-01  ...                              64.78\n",
              "3     2017-09-01  ...                              69.36\n",
              "4     2017-09-01  ...                              21.21\n",
              "...          ...  ...                                ...\n",
              "4940  2020-08-01  ...                             351.98\n",
              "4941  2020-08-01  ...                              20.28\n",
              "4942  2020-08-01  ...                              77.25\n",
              "4943  2020-08-01  ...                              93.78\n",
              "4944  2020-08-01  ...                              29.96\n",
              "\n",
              "[4945 rows x 8 columns]"
            ]
          },
          "metadata": {
            "tags": []
          },
          "execution_count": 148
        }
      ]
    },
    {
      "cell_type": "code",
      "metadata": {
        "colab": {
          "base_uri": "https://localhost:8080/"
        },
        "id": "AD-1xycUUIG4",
        "outputId": "3148c886-8030-40fa-f297-5e96ff8a830f"
      },
      "source": [
        "data.isnull().sum()"
      ],
      "execution_count": 149,
      "outputs": [
        {
          "output_type": "execute_result",
          "data": {
            "text/plain": [
              "Date                                    0\n",
              "Region                                  0\n",
              "Thermal Generation Actual (in MU)       0\n",
              "Thermal Generation Estimated (in MU)    0\n",
              "Nuclear Generation Actual (in MU)       0\n",
              "Nuclear Generation Estimated (in MU)    0\n",
              "Hydro Generation Actual (in MU)         0\n",
              "Hydro Generation Estimated (in MU)      0\n",
              "dtype: int64"
            ]
          },
          "metadata": {
            "tags": []
          },
          "execution_count": 149
        }
      ]
    },
    {
      "cell_type": "code",
      "metadata": {
        "colab": {
          "base_uri": "https://localhost:8080/",
          "height": 299
        },
        "id": "IATNNbQ5UKXY",
        "outputId": "b603a12e-fae4-4095-c479-1e18bf8df04a"
      },
      "source": [
        "data.describe()"
      ],
      "execution_count": 150,
      "outputs": [
        {
          "output_type": "execute_result",
          "data": {
            "text/html": [
              "<div>\n",
              "<style scoped>\n",
              "    .dataframe tbody tr th:only-of-type {\n",
              "        vertical-align: middle;\n",
              "    }\n",
              "\n",
              "    .dataframe tbody tr th {\n",
              "        vertical-align: top;\n",
              "    }\n",
              "\n",
              "    .dataframe thead th {\n",
              "        text-align: right;\n",
              "    }\n",
              "</style>\n",
              "<table border=\"1\" class=\"dataframe\">\n",
              "  <thead>\n",
              "    <tr style=\"text-align: right;\">\n",
              "      <th></th>\n",
              "      <th>Nuclear Generation Actual (in MU)</th>\n",
              "      <th>Nuclear Generation Estimated (in MU)</th>\n",
              "      <th>Hydro Generation Actual (in MU)</th>\n",
              "      <th>Hydro Generation Estimated (in MU)</th>\n",
              "    </tr>\n",
              "  </thead>\n",
              "  <tbody>\n",
              "    <tr>\n",
              "      <th>count</th>\n",
              "      <td>4945.000000</td>\n",
              "      <td>4945.000000</td>\n",
              "      <td>4945.000000</td>\n",
              "      <td>4945.000000</td>\n",
              "    </tr>\n",
              "    <tr>\n",
              "      <th>mean</th>\n",
              "      <td>37.242208</td>\n",
              "      <td>36.987877</td>\n",
              "      <td>73.305921</td>\n",
              "      <td>76.842965</td>\n",
              "    </tr>\n",
              "    <tr>\n",
              "      <th>std</th>\n",
              "      <td>12.302839</td>\n",
              "      <td>8.900516</td>\n",
              "      <td>74.482145</td>\n",
              "      <td>82.043952</td>\n",
              "    </tr>\n",
              "    <tr>\n",
              "      <th>min</th>\n",
              "      <td>0.000000</td>\n",
              "      <td>0.000000</td>\n",
              "      <td>0.000000</td>\n",
              "      <td>0.000000</td>\n",
              "    </tr>\n",
              "    <tr>\n",
              "      <th>25%</th>\n",
              "      <td>30.310000</td>\n",
              "      <td>32.890000</td>\n",
              "      <td>26.910000</td>\n",
              "      <td>23.310000</td>\n",
              "    </tr>\n",
              "    <tr>\n",
              "      <th>50%</th>\n",
              "      <td>37.242208</td>\n",
              "      <td>36.987877</td>\n",
              "      <td>52.960000</td>\n",
              "      <td>50.270000</td>\n",
              "    </tr>\n",
              "    <tr>\n",
              "      <th>75%</th>\n",
              "      <td>37.242208</td>\n",
              "      <td>36.987877</td>\n",
              "      <td>85.940000</td>\n",
              "      <td>95.800000</td>\n",
              "    </tr>\n",
              "    <tr>\n",
              "      <th>max</th>\n",
              "      <td>68.740000</td>\n",
              "      <td>76.640000</td>\n",
              "      <td>348.720000</td>\n",
              "      <td>397.380000</td>\n",
              "    </tr>\n",
              "  </tbody>\n",
              "</table>\n",
              "</div>"
            ],
            "text/plain": [
              "       Nuclear Generation Actual (in MU)  ...  Hydro Generation Estimated (in MU)\n",
              "count                        4945.000000  ...                         4945.000000\n",
              "mean                           37.242208  ...                           76.842965\n",
              "std                            12.302839  ...                           82.043952\n",
              "min                             0.000000  ...                            0.000000\n",
              "25%                            30.310000  ...                           23.310000\n",
              "50%                            37.242208  ...                           50.270000\n",
              "75%                            37.242208  ...                           95.800000\n",
              "max                            68.740000  ...                          397.380000\n",
              "\n",
              "[8 rows x 4 columns]"
            ]
          },
          "metadata": {
            "tags": []
          },
          "execution_count": 150
        }
      ]
    },
    {
      "cell_type": "code",
      "metadata": {
        "colab": {
          "base_uri": "https://localhost:8080/",
          "height": 612
        },
        "id": "HHtBinDHrVuJ",
        "outputId": "f4ce7952-d0ad-4ece-d27f-2db2983eabae"
      },
      "source": [
        "data"
      ],
      "execution_count": 151,
      "outputs": [
        {
          "output_type": "execute_result",
          "data": {
            "text/html": [
              "<div>\n",
              "<style scoped>\n",
              "    .dataframe tbody tr th:only-of-type {\n",
              "        vertical-align: middle;\n",
              "    }\n",
              "\n",
              "    .dataframe tbody tr th {\n",
              "        vertical-align: top;\n",
              "    }\n",
              "\n",
              "    .dataframe thead th {\n",
              "        text-align: right;\n",
              "    }\n",
              "</style>\n",
              "<table border=\"1\" class=\"dataframe\">\n",
              "  <thead>\n",
              "    <tr style=\"text-align: right;\">\n",
              "      <th></th>\n",
              "      <th>Date</th>\n",
              "      <th>Region</th>\n",
              "      <th>Thermal Generation Actual (in MU)</th>\n",
              "      <th>Thermal Generation Estimated (in MU)</th>\n",
              "      <th>Nuclear Generation Actual (in MU)</th>\n",
              "      <th>Nuclear Generation Estimated (in MU)</th>\n",
              "      <th>Hydro Generation Actual (in MU)</th>\n",
              "      <th>Hydro Generation Estimated (in MU)</th>\n",
              "    </tr>\n",
              "  </thead>\n",
              "  <tbody>\n",
              "    <tr>\n",
              "      <th>0</th>\n",
              "      <td>2017-09-01</td>\n",
              "      <td>Northern</td>\n",
              "      <td>624.23</td>\n",
              "      <td>484.21</td>\n",
              "      <td>30.360000</td>\n",
              "      <td>35.570000</td>\n",
              "      <td>273.27</td>\n",
              "      <td>320.81</td>\n",
              "    </tr>\n",
              "    <tr>\n",
              "      <th>1</th>\n",
              "      <td>2017-09-01</td>\n",
              "      <td>Western</td>\n",
              "      <td>1,106.89</td>\n",
              "      <td>1,024.33</td>\n",
              "      <td>25.170000</td>\n",
              "      <td>3.810000</td>\n",
              "      <td>72.00</td>\n",
              "      <td>21.53</td>\n",
              "    </tr>\n",
              "    <tr>\n",
              "      <th>2</th>\n",
              "      <td>2017-09-01</td>\n",
              "      <td>Southern</td>\n",
              "      <td>576.66</td>\n",
              "      <td>578.55</td>\n",
              "      <td>62.730000</td>\n",
              "      <td>49.800000</td>\n",
              "      <td>111.57</td>\n",
              "      <td>64.78</td>\n",
              "    </tr>\n",
              "    <tr>\n",
              "      <th>3</th>\n",
              "      <td>2017-09-01</td>\n",
              "      <td>Eastern</td>\n",
              "      <td>441.02</td>\n",
              "      <td>429.39</td>\n",
              "      <td>37.242208</td>\n",
              "      <td>36.987877</td>\n",
              "      <td>85.94</td>\n",
              "      <td>69.36</td>\n",
              "    </tr>\n",
              "    <tr>\n",
              "      <th>4</th>\n",
              "      <td>2017-09-01</td>\n",
              "      <td>NorthEastern</td>\n",
              "      <td>29.11</td>\n",
              "      <td>15.91</td>\n",
              "      <td>37.242208</td>\n",
              "      <td>36.987877</td>\n",
              "      <td>24.64</td>\n",
              "      <td>21.21</td>\n",
              "    </tr>\n",
              "    <tr>\n",
              "      <th>...</th>\n",
              "      <td>...</td>\n",
              "      <td>...</td>\n",
              "      <td>...</td>\n",
              "      <td>...</td>\n",
              "      <td>...</td>\n",
              "      <td>...</td>\n",
              "      <td>...</td>\n",
              "      <td>...</td>\n",
              "    </tr>\n",
              "    <tr>\n",
              "      <th>4940</th>\n",
              "      <td>2020-08-01</td>\n",
              "      <td>Northern</td>\n",
              "      <td>669.47</td>\n",
              "      <td>602.96</td>\n",
              "      <td>26.880000</td>\n",
              "      <td>23.410000</td>\n",
              "      <td>348.72</td>\n",
              "      <td>351.98</td>\n",
              "    </tr>\n",
              "    <tr>\n",
              "      <th>4941</th>\n",
              "      <td>2020-08-01</td>\n",
              "      <td>Western</td>\n",
              "      <td>1,116.00</td>\n",
              "      <td>1,262.10</td>\n",
              "      <td>42.370000</td>\n",
              "      <td>36.630000</td>\n",
              "      <td>54.67</td>\n",
              "      <td>20.28</td>\n",
              "    </tr>\n",
              "    <tr>\n",
              "      <th>4942</th>\n",
              "      <td>2020-08-01</td>\n",
              "      <td>Southern</td>\n",
              "      <td>494.66</td>\n",
              "      <td>415.53</td>\n",
              "      <td>61.830000</td>\n",
              "      <td>26.280000</td>\n",
              "      <td>93.49</td>\n",
              "      <td>77.25</td>\n",
              "    </tr>\n",
              "    <tr>\n",
              "      <th>4943</th>\n",
              "      <td>2020-08-01</td>\n",
              "      <td>Eastern</td>\n",
              "      <td>482.86</td>\n",
              "      <td>547.03</td>\n",
              "      <td>37.242208</td>\n",
              "      <td>36.987877</td>\n",
              "      <td>87.22</td>\n",
              "      <td>93.78</td>\n",
              "    </tr>\n",
              "    <tr>\n",
              "      <th>4944</th>\n",
              "      <td>2020-08-01</td>\n",
              "      <td>NorthEastern</td>\n",
              "      <td>34.42</td>\n",
              "      <td>32.81</td>\n",
              "      <td>37.242208</td>\n",
              "      <td>36.987877</td>\n",
              "      <td>29.87</td>\n",
              "      <td>29.96</td>\n",
              "    </tr>\n",
              "  </tbody>\n",
              "</table>\n",
              "<p>4945 rows × 8 columns</p>\n",
              "</div>"
            ],
            "text/plain": [
              "            Date  ... Hydro Generation Estimated (in MU)\n",
              "0     2017-09-01  ...                             320.81\n",
              "1     2017-09-01  ...                              21.53\n",
              "2     2017-09-01  ...                              64.78\n",
              "3     2017-09-01  ...                              69.36\n",
              "4     2017-09-01  ...                              21.21\n",
              "...          ...  ...                                ...\n",
              "4940  2020-08-01  ...                             351.98\n",
              "4941  2020-08-01  ...                              20.28\n",
              "4942  2020-08-01  ...                              77.25\n",
              "4943  2020-08-01  ...                              93.78\n",
              "4944  2020-08-01  ...                              29.96\n",
              "\n",
              "[4945 rows x 8 columns]"
            ]
          },
          "metadata": {
            "tags": []
          },
          "execution_count": 151
        }
      ]
    },
    {
      "cell_type": "markdown",
      "metadata": {
        "id": "Tsl0uVV3VEYS"
      },
      "source": [
        "Creating year & Month Columns"
      ]
    },
    {
      "cell_type": "code",
      "metadata": {
        "id": "1kNh3EetUMaQ"
      },
      "source": [
        "data['Year'] = data['Date'].apply(lambda x: np.int(x[0:4]))\n",
        "data['Month'] = data['Date'].apply(lambda x: np.int(x[5:7]))\n",
        "\n",
        "data = data.drop('Date', axis = 1)"
      ],
      "execution_count": 152,
      "outputs": []
    },
    {
      "cell_type": "code",
      "metadata": {
        "colab": {
          "base_uri": "https://localhost:8080/",
          "height": 439
        },
        "id": "fPoFxwKSrvJr",
        "outputId": "1a3463da-3a2f-4291-f3b0-1fed12f1c59a"
      },
      "source": [
        "data"
      ],
      "execution_count": 153,
      "outputs": [
        {
          "output_type": "execute_result",
          "data": {
            "text/html": [
              "<div>\n",
              "<style scoped>\n",
              "    .dataframe tbody tr th:only-of-type {\n",
              "        vertical-align: middle;\n",
              "    }\n",
              "\n",
              "    .dataframe tbody tr th {\n",
              "        vertical-align: top;\n",
              "    }\n",
              "\n",
              "    .dataframe thead th {\n",
              "        text-align: right;\n",
              "    }\n",
              "</style>\n",
              "<table border=\"1\" class=\"dataframe\">\n",
              "  <thead>\n",
              "    <tr style=\"text-align: right;\">\n",
              "      <th></th>\n",
              "      <th>Region</th>\n",
              "      <th>Thermal Generation Actual (in MU)</th>\n",
              "      <th>Thermal Generation Estimated (in MU)</th>\n",
              "      <th>Nuclear Generation Actual (in MU)</th>\n",
              "      <th>Nuclear Generation Estimated (in MU)</th>\n",
              "      <th>Hydro Generation Actual (in MU)</th>\n",
              "      <th>Hydro Generation Estimated (in MU)</th>\n",
              "      <th>Year</th>\n",
              "      <th>Month</th>\n",
              "    </tr>\n",
              "  </thead>\n",
              "  <tbody>\n",
              "    <tr>\n",
              "      <th>0</th>\n",
              "      <td>Northern</td>\n",
              "      <td>624.23</td>\n",
              "      <td>484.21</td>\n",
              "      <td>30.360000</td>\n",
              "      <td>35.570000</td>\n",
              "      <td>273.27</td>\n",
              "      <td>320.81</td>\n",
              "      <td>2017</td>\n",
              "      <td>9</td>\n",
              "    </tr>\n",
              "    <tr>\n",
              "      <th>1</th>\n",
              "      <td>Western</td>\n",
              "      <td>1,106.89</td>\n",
              "      <td>1,024.33</td>\n",
              "      <td>25.170000</td>\n",
              "      <td>3.810000</td>\n",
              "      <td>72.00</td>\n",
              "      <td>21.53</td>\n",
              "      <td>2017</td>\n",
              "      <td>9</td>\n",
              "    </tr>\n",
              "    <tr>\n",
              "      <th>2</th>\n",
              "      <td>Southern</td>\n",
              "      <td>576.66</td>\n",
              "      <td>578.55</td>\n",
              "      <td>62.730000</td>\n",
              "      <td>49.800000</td>\n",
              "      <td>111.57</td>\n",
              "      <td>64.78</td>\n",
              "      <td>2017</td>\n",
              "      <td>9</td>\n",
              "    </tr>\n",
              "    <tr>\n",
              "      <th>3</th>\n",
              "      <td>Eastern</td>\n",
              "      <td>441.02</td>\n",
              "      <td>429.39</td>\n",
              "      <td>37.242208</td>\n",
              "      <td>36.987877</td>\n",
              "      <td>85.94</td>\n",
              "      <td>69.36</td>\n",
              "      <td>2017</td>\n",
              "      <td>9</td>\n",
              "    </tr>\n",
              "    <tr>\n",
              "      <th>4</th>\n",
              "      <td>NorthEastern</td>\n",
              "      <td>29.11</td>\n",
              "      <td>15.91</td>\n",
              "      <td>37.242208</td>\n",
              "      <td>36.987877</td>\n",
              "      <td>24.64</td>\n",
              "      <td>21.21</td>\n",
              "      <td>2017</td>\n",
              "      <td>9</td>\n",
              "    </tr>\n",
              "    <tr>\n",
              "      <th>...</th>\n",
              "      <td>...</td>\n",
              "      <td>...</td>\n",
              "      <td>...</td>\n",
              "      <td>...</td>\n",
              "      <td>...</td>\n",
              "      <td>...</td>\n",
              "      <td>...</td>\n",
              "      <td>...</td>\n",
              "      <td>...</td>\n",
              "    </tr>\n",
              "    <tr>\n",
              "      <th>4940</th>\n",
              "      <td>Northern</td>\n",
              "      <td>669.47</td>\n",
              "      <td>602.96</td>\n",
              "      <td>26.880000</td>\n",
              "      <td>23.410000</td>\n",
              "      <td>348.72</td>\n",
              "      <td>351.98</td>\n",
              "      <td>2020</td>\n",
              "      <td>8</td>\n",
              "    </tr>\n",
              "    <tr>\n",
              "      <th>4941</th>\n",
              "      <td>Western</td>\n",
              "      <td>1,116.00</td>\n",
              "      <td>1,262.10</td>\n",
              "      <td>42.370000</td>\n",
              "      <td>36.630000</td>\n",
              "      <td>54.67</td>\n",
              "      <td>20.28</td>\n",
              "      <td>2020</td>\n",
              "      <td>8</td>\n",
              "    </tr>\n",
              "    <tr>\n",
              "      <th>4942</th>\n",
              "      <td>Southern</td>\n",
              "      <td>494.66</td>\n",
              "      <td>415.53</td>\n",
              "      <td>61.830000</td>\n",
              "      <td>26.280000</td>\n",
              "      <td>93.49</td>\n",
              "      <td>77.25</td>\n",
              "      <td>2020</td>\n",
              "      <td>8</td>\n",
              "    </tr>\n",
              "    <tr>\n",
              "      <th>4943</th>\n",
              "      <td>Eastern</td>\n",
              "      <td>482.86</td>\n",
              "      <td>547.03</td>\n",
              "      <td>37.242208</td>\n",
              "      <td>36.987877</td>\n",
              "      <td>87.22</td>\n",
              "      <td>93.78</td>\n",
              "      <td>2020</td>\n",
              "      <td>8</td>\n",
              "    </tr>\n",
              "    <tr>\n",
              "      <th>4944</th>\n",
              "      <td>NorthEastern</td>\n",
              "      <td>34.42</td>\n",
              "      <td>32.81</td>\n",
              "      <td>37.242208</td>\n",
              "      <td>36.987877</td>\n",
              "      <td>29.87</td>\n",
              "      <td>29.96</td>\n",
              "      <td>2020</td>\n",
              "      <td>8</td>\n",
              "    </tr>\n",
              "  </tbody>\n",
              "</table>\n",
              "<p>4945 rows × 9 columns</p>\n",
              "</div>"
            ],
            "text/plain": [
              "            Region Thermal Generation Actual (in MU)  ...  Year  Month\n",
              "0         Northern                            624.23  ...  2017      9\n",
              "1          Western                          1,106.89  ...  2017      9\n",
              "2         Southern                            576.66  ...  2017      9\n",
              "3          Eastern                            441.02  ...  2017      9\n",
              "4     NorthEastern                             29.11  ...  2017      9\n",
              "...            ...                               ...  ...   ...    ...\n",
              "4940      Northern                            669.47  ...  2020      8\n",
              "4941       Western                          1,116.00  ...  2020      8\n",
              "4942      Southern                            494.66  ...  2020      8\n",
              "4943       Eastern                            482.86  ...  2020      8\n",
              "4944  NorthEastern                             34.42  ...  2020      8\n",
              "\n",
              "[4945 rows x 9 columns]"
            ]
          },
          "metadata": {
            "tags": []
          },
          "execution_count": 153
        }
      ]
    },
    {
      "cell_type": "markdown",
      "metadata": {
        "id": "0GZ0KN-JsvqK"
      },
      "source": [
        "Removing commas(makes numeric values into objects)"
      ]
    },
    {
      "cell_type": "code",
      "metadata": {
        "id": "RWzSOlIpsvRb"
      },
      "source": [
        "data['Thermal Generation Actual (in MU)'] = data['Thermal Generation Actual (in MU)'].str.replace(',', '').astype(float)\n",
        "data['Thermal Generation Estimated (in MU)'] = data['Thermal Generation Estimated (in MU)'].str.replace(',', '').astype('float')"
      ],
      "execution_count": 154,
      "outputs": []
    },
    {
      "cell_type": "code",
      "metadata": {
        "colab": {
          "base_uri": "https://localhost:8080/"
        },
        "id": "fugc9BnOrv_x",
        "outputId": "ad79a863-791a-480c-a9b4-143121f0cb50"
      },
      "source": [
        "data.info()"
      ],
      "execution_count": 155,
      "outputs": [
        {
          "output_type": "stream",
          "text": [
            "<class 'pandas.core.frame.DataFrame'>\n",
            "RangeIndex: 4945 entries, 0 to 4944\n",
            "Data columns (total 9 columns):\n",
            " #   Column                                Non-Null Count  Dtype  \n",
            "---  ------                                --------------  -----  \n",
            " 0   Region                                4945 non-null   object \n",
            " 1   Thermal Generation Actual (in MU)     4945 non-null   float64\n",
            " 2   Thermal Generation Estimated (in MU)  4945 non-null   float64\n",
            " 3   Nuclear Generation Actual (in MU)     4945 non-null   float64\n",
            " 4   Nuclear Generation Estimated (in MU)  4945 non-null   float64\n",
            " 5   Hydro Generation Actual (in MU)       4945 non-null   float64\n",
            " 6   Hydro Generation Estimated (in MU)    4945 non-null   float64\n",
            " 7   Year                                  4945 non-null   int64  \n",
            " 8   Month                                 4945 non-null   int64  \n",
            "dtypes: float64(6), int64(2), object(1)\n",
            "memory usage: 347.8+ KB\n"
          ],
          "name": "stdout"
        }
      ]
    },
    {
      "cell_type": "markdown",
      "metadata": {
        "id": "--zjE6cHuapT"
      },
      "source": [
        "Encoding Labels\n"
      ]
    },
    {
      "cell_type": "code",
      "metadata": {
        "id": "nkQfX1AotP3B"
      },
      "source": [
        "encoder = LabelEncoder()\n",
        "\n",
        "data['Region'] = encoder.fit_transform(data['Region'])"
      ],
      "execution_count": 156,
      "outputs": []
    },
    {
      "cell_type": "code",
      "metadata": {
        "colab": {
          "base_uri": "https://localhost:8080/",
          "height": 439
        },
        "id": "ahboMZ_Uu-lC",
        "outputId": "2ce68875-ef45-447e-88e1-ee5442988358"
      },
      "source": [
        "data"
      ],
      "execution_count": 157,
      "outputs": [
        {
          "output_type": "execute_result",
          "data": {
            "text/html": [
              "<div>\n",
              "<style scoped>\n",
              "    .dataframe tbody tr th:only-of-type {\n",
              "        vertical-align: middle;\n",
              "    }\n",
              "\n",
              "    .dataframe tbody tr th {\n",
              "        vertical-align: top;\n",
              "    }\n",
              "\n",
              "    .dataframe thead th {\n",
              "        text-align: right;\n",
              "    }\n",
              "</style>\n",
              "<table border=\"1\" class=\"dataframe\">\n",
              "  <thead>\n",
              "    <tr style=\"text-align: right;\">\n",
              "      <th></th>\n",
              "      <th>Region</th>\n",
              "      <th>Thermal Generation Actual (in MU)</th>\n",
              "      <th>Thermal Generation Estimated (in MU)</th>\n",
              "      <th>Nuclear Generation Actual (in MU)</th>\n",
              "      <th>Nuclear Generation Estimated (in MU)</th>\n",
              "      <th>Hydro Generation Actual (in MU)</th>\n",
              "      <th>Hydro Generation Estimated (in MU)</th>\n",
              "      <th>Year</th>\n",
              "      <th>Month</th>\n",
              "    </tr>\n",
              "  </thead>\n",
              "  <tbody>\n",
              "    <tr>\n",
              "      <th>0</th>\n",
              "      <td>2</td>\n",
              "      <td>624.23</td>\n",
              "      <td>484.21</td>\n",
              "      <td>30.360000</td>\n",
              "      <td>35.570000</td>\n",
              "      <td>273.27</td>\n",
              "      <td>320.81</td>\n",
              "      <td>2017</td>\n",
              "      <td>9</td>\n",
              "    </tr>\n",
              "    <tr>\n",
              "      <th>1</th>\n",
              "      <td>4</td>\n",
              "      <td>1106.89</td>\n",
              "      <td>1024.33</td>\n",
              "      <td>25.170000</td>\n",
              "      <td>3.810000</td>\n",
              "      <td>72.00</td>\n",
              "      <td>21.53</td>\n",
              "      <td>2017</td>\n",
              "      <td>9</td>\n",
              "    </tr>\n",
              "    <tr>\n",
              "      <th>2</th>\n",
              "      <td>3</td>\n",
              "      <td>576.66</td>\n",
              "      <td>578.55</td>\n",
              "      <td>62.730000</td>\n",
              "      <td>49.800000</td>\n",
              "      <td>111.57</td>\n",
              "      <td>64.78</td>\n",
              "      <td>2017</td>\n",
              "      <td>9</td>\n",
              "    </tr>\n",
              "    <tr>\n",
              "      <th>3</th>\n",
              "      <td>0</td>\n",
              "      <td>441.02</td>\n",
              "      <td>429.39</td>\n",
              "      <td>37.242208</td>\n",
              "      <td>36.987877</td>\n",
              "      <td>85.94</td>\n",
              "      <td>69.36</td>\n",
              "      <td>2017</td>\n",
              "      <td>9</td>\n",
              "    </tr>\n",
              "    <tr>\n",
              "      <th>4</th>\n",
              "      <td>1</td>\n",
              "      <td>29.11</td>\n",
              "      <td>15.91</td>\n",
              "      <td>37.242208</td>\n",
              "      <td>36.987877</td>\n",
              "      <td>24.64</td>\n",
              "      <td>21.21</td>\n",
              "      <td>2017</td>\n",
              "      <td>9</td>\n",
              "    </tr>\n",
              "    <tr>\n",
              "      <th>...</th>\n",
              "      <td>...</td>\n",
              "      <td>...</td>\n",
              "      <td>...</td>\n",
              "      <td>...</td>\n",
              "      <td>...</td>\n",
              "      <td>...</td>\n",
              "      <td>...</td>\n",
              "      <td>...</td>\n",
              "      <td>...</td>\n",
              "    </tr>\n",
              "    <tr>\n",
              "      <th>4940</th>\n",
              "      <td>2</td>\n",
              "      <td>669.47</td>\n",
              "      <td>602.96</td>\n",
              "      <td>26.880000</td>\n",
              "      <td>23.410000</td>\n",
              "      <td>348.72</td>\n",
              "      <td>351.98</td>\n",
              "      <td>2020</td>\n",
              "      <td>8</td>\n",
              "    </tr>\n",
              "    <tr>\n",
              "      <th>4941</th>\n",
              "      <td>4</td>\n",
              "      <td>1116.00</td>\n",
              "      <td>1262.10</td>\n",
              "      <td>42.370000</td>\n",
              "      <td>36.630000</td>\n",
              "      <td>54.67</td>\n",
              "      <td>20.28</td>\n",
              "      <td>2020</td>\n",
              "      <td>8</td>\n",
              "    </tr>\n",
              "    <tr>\n",
              "      <th>4942</th>\n",
              "      <td>3</td>\n",
              "      <td>494.66</td>\n",
              "      <td>415.53</td>\n",
              "      <td>61.830000</td>\n",
              "      <td>26.280000</td>\n",
              "      <td>93.49</td>\n",
              "      <td>77.25</td>\n",
              "      <td>2020</td>\n",
              "      <td>8</td>\n",
              "    </tr>\n",
              "    <tr>\n",
              "      <th>4943</th>\n",
              "      <td>0</td>\n",
              "      <td>482.86</td>\n",
              "      <td>547.03</td>\n",
              "      <td>37.242208</td>\n",
              "      <td>36.987877</td>\n",
              "      <td>87.22</td>\n",
              "      <td>93.78</td>\n",
              "      <td>2020</td>\n",
              "      <td>8</td>\n",
              "    </tr>\n",
              "    <tr>\n",
              "      <th>4944</th>\n",
              "      <td>1</td>\n",
              "      <td>34.42</td>\n",
              "      <td>32.81</td>\n",
              "      <td>37.242208</td>\n",
              "      <td>36.987877</td>\n",
              "      <td>29.87</td>\n",
              "      <td>29.96</td>\n",
              "      <td>2020</td>\n",
              "      <td>8</td>\n",
              "    </tr>\n",
              "  </tbody>\n",
              "</table>\n",
              "<p>4945 rows × 9 columns</p>\n",
              "</div>"
            ],
            "text/plain": [
              "      Region  Thermal Generation Actual (in MU)  ...  Year  Month\n",
              "0          2                             624.23  ...  2017      9\n",
              "1          4                            1106.89  ...  2017      9\n",
              "2          3                             576.66  ...  2017      9\n",
              "3          0                             441.02  ...  2017      9\n",
              "4          1                              29.11  ...  2017      9\n",
              "...      ...                                ...  ...   ...    ...\n",
              "4940       2                             669.47  ...  2020      8\n",
              "4941       4                            1116.00  ...  2020      8\n",
              "4942       3                             494.66  ...  2020      8\n",
              "4943       0                             482.86  ...  2020      8\n",
              "4944       1                              34.42  ...  2020      8\n",
              "\n",
              "[4945 rows x 9 columns]"
            ]
          },
          "metadata": {
            "tags": []
          },
          "execution_count": 157
        }
      ]
    },
    {
      "cell_type": "code",
      "metadata": {
        "colab": {
          "base_uri": "https://localhost:8080/"
        },
        "id": "wkY3SkxEu_gA",
        "outputId": "6f15c5dc-af55-4211-d859-987750054a12"
      },
      "source": [
        "data.dtypes"
      ],
      "execution_count": 158,
      "outputs": [
        {
          "output_type": "execute_result",
          "data": {
            "text/plain": [
              "Region                                    int64\n",
              "Thermal Generation Actual (in MU)       float64\n",
              "Thermal Generation Estimated (in MU)    float64\n",
              "Nuclear Generation Actual (in MU)       float64\n",
              "Nuclear Generation Estimated (in MU)    float64\n",
              "Hydro Generation Actual (in MU)         float64\n",
              "Hydro Generation Estimated (in MU)      float64\n",
              "Year                                      int64\n",
              "Month                                     int64\n",
              "dtype: object"
            ]
          },
          "metadata": {
            "tags": []
          },
          "execution_count": 158
        }
      ]
    },
    {
      "cell_type": "markdown",
      "metadata": {
        "id": "i3zHy4KXwHyH"
      },
      "source": [
        "Splitting Features & target"
      ]
    },
    {
      "cell_type": "code",
      "metadata": {
        "id": "USgATLy5wGn_"
      },
      "source": [
        "X = data.drop('Region', axis =1)\n",
        "Y =data['Region']"
      ],
      "execution_count": 159,
      "outputs": []
    },
    {
      "cell_type": "markdown",
      "metadata": {
        "id": "eoVMnZfAwRy_"
      },
      "source": [
        "Scaling"
      ]
    },
    {
      "cell_type": "code",
      "metadata": {
        "id": "a1ps59bdvmWH"
      },
      "source": [
        "scaler = StandardScaler()\n",
        "\n",
        "X = scaler.fit_transform(X)"
      ],
      "execution_count": 160,
      "outputs": []
    },
    {
      "cell_type": "code",
      "metadata": {
        "colab": {
          "base_uri": "https://localhost:8080/"
        },
        "id": "RwpbNafowXfn",
        "outputId": "1f3b3497-a440-4752-c286-3e20e23878e8"
      },
      "source": [
        "X"
      ],
      "execution_count": 161,
      "outputs": [
        {
          "output_type": "execute_result",
          "data": {
            "text/plain": [
              "array([[ 5.28080406e-02, -2.37864785e-01, -5.59456520e-01, ...,\n",
              "         2.97391460e+00, -1.73545914e+00,  6.61947018e-01],\n",
              "       [ 1.31138889e+00,  1.17108805e+00, -9.81353025e-01, ...,\n",
              "        -6.74255163e-01, -1.73545914e+00,  6.61947018e-01],\n",
              "       [-7.12351597e-02,  8.22980515e-03,  2.07190954e+00, ...,\n",
              "        -1.47045385e-01, -1.73545914e+00,  6.61947018e-01],\n",
              "       ...,\n",
              "       [-2.85057788e-01, -4.17022900e-01,  1.99874830e+00, ...,\n",
              "         4.96168873e-03,  1.67228888e+00,  3.80733272e-01],\n",
              "       [-3.15827386e-01, -7.39930218e-02,  2.94577078e-14, ...,\n",
              "         2.06459438e-01,  1.67228888e+00,  3.80733272e-01],\n",
              "       [-1.48517640e+00, -1.41538332e+00,  2.94577078e-14, ...,\n",
              "        -5.71494968e-01,  1.67228888e+00,  3.80733272e-01]])"
            ]
          },
          "metadata": {
            "tags": []
          },
          "execution_count": 161
        }
      ]
    },
    {
      "cell_type": "markdown",
      "metadata": {
        "id": "_Wk7W3_mwZug"
      },
      "source": [
        "Train & Test split"
      ]
    },
    {
      "cell_type": "code",
      "metadata": {
        "id": "Mp8PI8JqwYIH"
      },
      "source": [
        "X_train, X_test, Y_train, Y_test = train_test_split(X, Y, test_size = 0.3, random_state = 2)"
      ],
      "execution_count": 162,
      "outputs": []
    },
    {
      "cell_type": "code",
      "metadata": {
        "colab": {
          "base_uri": "https://localhost:8080/"
        },
        "id": "SGGDO0yUxv1J",
        "outputId": "bc719bcd-301e-4a3b-f425-97f2dc7a9450"
      },
      "source": [
        "X.shape, X_train.shape, X_test.shape"
      ],
      "execution_count": 163,
      "outputs": [
        {
          "output_type": "execute_result",
          "data": {
            "text/plain": [
              "((4945, 8), (3461, 8), (1484, 8))"
            ]
          },
          "metadata": {
            "tags": []
          },
          "execution_count": 163
        }
      ]
    },
    {
      "cell_type": "markdown",
      "metadata": {
        "id": "0vApxOPPx0tm"
      },
      "source": [
        "Model"
      ]
    },
    {
      "cell_type": "code",
      "metadata": {
        "colab": {
          "base_uri": "https://localhost:8080/"
        },
        "id": "v2ch65EZxzAW",
        "outputId": "506928f7-d027-45a5-8b04-df57feccb853"
      },
      "source": [
        "models = {\n",
        "          'Logistic Regression' : LogisticRegression(),\n",
        "          'Neural Network' : MLPClassifier(),\n",
        "          'Tree' : DecisionTreeClassifier(),\n",
        "          'Ada Boost' : AdaBoostClassifier(),\n",
        "          'Bagging Classifier' :BaggingClassifier(),\n",
        "          'Gradient Boosting' : GradientBoostingClassifier(),\n",
        "          'Random Forest' : RandomForestClassifier()\n",
        "}\n",
        "\n",
        "for name, model in models.items():\n",
        "  model.fit(X_train, Y_train)\n",
        "  print(name + ' trained')"
      ],
      "execution_count": 169,
      "outputs": [
        {
          "output_type": "stream",
          "text": [
            "Logistic Regression trained\n",
            "Neural Network trained\n",
            "Tree trained\n",
            "Ada Boost trained\n",
            "Bagging Classifier trained\n",
            "Gradient Boosting trained\n",
            "Random Forest trained\n"
          ],
          "name": "stdout"
        }
      ]
    },
    {
      "cell_type": "code",
      "metadata": {
        "colab": {
          "base_uri": "https://localhost:8080/"
        },
        "id": "tSBMVwLwzhEC",
        "outputId": "7e72d2ee-6ee3-401a-8153-ecd02a677cc1"
      },
      "source": [
        "results = []\n",
        "for name, model in models.items():\n",
        "  result = model.score(X_test, Y_test)\n",
        "  results.append(result)\n",
        "  print(name + ' : {:.2f}%'.format(result * 100))"
      ],
      "execution_count": 173,
      "outputs": [
        {
          "output_type": "stream",
          "text": [
            "Logistic Regression : 99.66%\n",
            "Neural Network : 100.00%\n",
            "Tree : 100.00%\n",
            "Ada Boost : 60.78%\n",
            "Bagging Classifier : 100.00%\n",
            "Gradient Boosting : 100.00%\n",
            "Random Forest : 100.00%\n"
          ],
          "name": "stdout"
        }
      ]
    },
    {
      "cell_type": "code",
      "metadata": {
        "id": "RsfSgfLq1Z63"
      },
      "source": [
        ""
      ],
      "execution_count": null,
      "outputs": []
    },
    {
      "cell_type": "code",
      "metadata": {
        "id": "0ifl19Ow4ocl"
      },
      "source": [
        ""
      ],
      "execution_count": null,
      "outputs": []
    }
  ]
}